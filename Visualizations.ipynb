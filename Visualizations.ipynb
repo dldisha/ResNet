{
  "nbformat": 4,
  "nbformat_minor": 0,
  "metadata": {
    "colab": {
      "name": "Visualizations.ipynb",
      "provenance": [],
      "collapsed_sections": [],
      "include_colab_link": true
    },
    "kernelspec": {
      "name": "python3",
      "display_name": "Python 3"
    },
    "language_info": {
      "name": "python"
    },
    "accelerator": "GPU",
    "widgets": {
      "application/vnd.jupyter.widget-state+json": {
        "03a191f0c1c34a2aaab4e3c506dcf912": {
          "model_module": "@jupyter-widgets/controls",
          "model_name": "HBoxModel",
          "model_module_version": "1.5.0",
          "state": {
            "_dom_classes": [],
            "_model_module": "@jupyter-widgets/controls",
            "_model_module_version": "1.5.0",
            "_model_name": "HBoxModel",
            "_view_count": null,
            "_view_module": "@jupyter-widgets/controls",
            "_view_module_version": "1.5.0",
            "_view_name": "HBoxView",
            "box_style": "",
            "children": [
              "IPY_MODEL_9197192647334bdab5d6e88b2bf8046b",
              "IPY_MODEL_5082cb2ab3914bc9847d0ee6ddb1c047",
              "IPY_MODEL_738954e2fffe4b2ea22f1868d0096a2c"
            ],
            "layout": "IPY_MODEL_b841e211ec274ddcbaf0311487663699"
          }
        },
        "9197192647334bdab5d6e88b2bf8046b": {
          "model_module": "@jupyter-widgets/controls",
          "model_name": "HTMLModel",
          "model_module_version": "1.5.0",
          "state": {
            "_dom_classes": [],
            "_model_module": "@jupyter-widgets/controls",
            "_model_module_version": "1.5.0",
            "_model_name": "HTMLModel",
            "_view_count": null,
            "_view_module": "@jupyter-widgets/controls",
            "_view_module_version": "1.5.0",
            "_view_name": "HTMLView",
            "description": "",
            "description_tooltip": null,
            "layout": "IPY_MODEL_fe8b1738b3ef48d8a12401102dce6e1a",
            "placeholder": "​",
            "style": "IPY_MODEL_7f91dd749e704945ace19c3981d60eae",
            "value": ""
          }
        },
        "5082cb2ab3914bc9847d0ee6ddb1c047": {
          "model_module": "@jupyter-widgets/controls",
          "model_name": "FloatProgressModel",
          "model_module_version": "1.5.0",
          "state": {
            "_dom_classes": [],
            "_model_module": "@jupyter-widgets/controls",
            "_model_module_version": "1.5.0",
            "_model_name": "FloatProgressModel",
            "_view_count": null,
            "_view_module": "@jupyter-widgets/controls",
            "_view_module_version": "1.5.0",
            "_view_name": "ProgressView",
            "bar_style": "success",
            "description": "",
            "description_tooltip": null,
            "layout": "IPY_MODEL_79d9007c15fd4115a91b7bf33f2dd11f",
            "max": 170498071,
            "min": 0,
            "orientation": "horizontal",
            "style": "IPY_MODEL_21d1ce1581f749b4a89091537e2c4efa",
            "value": 170498071
          }
        },
        "738954e2fffe4b2ea22f1868d0096a2c": {
          "model_module": "@jupyter-widgets/controls",
          "model_name": "HTMLModel",
          "model_module_version": "1.5.0",
          "state": {
            "_dom_classes": [],
            "_model_module": "@jupyter-widgets/controls",
            "_model_module_version": "1.5.0",
            "_model_name": "HTMLModel",
            "_view_count": null,
            "_view_module": "@jupyter-widgets/controls",
            "_view_module_version": "1.5.0",
            "_view_name": "HTMLView",
            "description": "",
            "description_tooltip": null,
            "layout": "IPY_MODEL_96915df6067147dba70ee39c0a635052",
            "placeholder": "​",
            "style": "IPY_MODEL_9a8df0b8173c4b2ea87b469fc8fc4b5a",
            "value": " 170499072/? [00:03&lt;00:00, 54357421.36it/s]"
          }
        },
        "b841e211ec274ddcbaf0311487663699": {
          "model_module": "@jupyter-widgets/base",
          "model_name": "LayoutModel",
          "model_module_version": "1.2.0",
          "state": {
            "_model_module": "@jupyter-widgets/base",
            "_model_module_version": "1.2.0",
            "_model_name": "LayoutModel",
            "_view_count": null,
            "_view_module": "@jupyter-widgets/base",
            "_view_module_version": "1.2.0",
            "_view_name": "LayoutView",
            "align_content": null,
            "align_items": null,
            "align_self": null,
            "border": null,
            "bottom": null,
            "display": null,
            "flex": null,
            "flex_flow": null,
            "grid_area": null,
            "grid_auto_columns": null,
            "grid_auto_flow": null,
            "grid_auto_rows": null,
            "grid_column": null,
            "grid_gap": null,
            "grid_row": null,
            "grid_template_areas": null,
            "grid_template_columns": null,
            "grid_template_rows": null,
            "height": null,
            "justify_content": null,
            "justify_items": null,
            "left": null,
            "margin": null,
            "max_height": null,
            "max_width": null,
            "min_height": null,
            "min_width": null,
            "object_fit": null,
            "object_position": null,
            "order": null,
            "overflow": null,
            "overflow_x": null,
            "overflow_y": null,
            "padding": null,
            "right": null,
            "top": null,
            "visibility": null,
            "width": null
          }
        },
        "fe8b1738b3ef48d8a12401102dce6e1a": {
          "model_module": "@jupyter-widgets/base",
          "model_name": "LayoutModel",
          "model_module_version": "1.2.0",
          "state": {
            "_model_module": "@jupyter-widgets/base",
            "_model_module_version": "1.2.0",
            "_model_name": "LayoutModel",
            "_view_count": null,
            "_view_module": "@jupyter-widgets/base",
            "_view_module_version": "1.2.0",
            "_view_name": "LayoutView",
            "align_content": null,
            "align_items": null,
            "align_self": null,
            "border": null,
            "bottom": null,
            "display": null,
            "flex": null,
            "flex_flow": null,
            "grid_area": null,
            "grid_auto_columns": null,
            "grid_auto_flow": null,
            "grid_auto_rows": null,
            "grid_column": null,
            "grid_gap": null,
            "grid_row": null,
            "grid_template_areas": null,
            "grid_template_columns": null,
            "grid_template_rows": null,
            "height": null,
            "justify_content": null,
            "justify_items": null,
            "left": null,
            "margin": null,
            "max_height": null,
            "max_width": null,
            "min_height": null,
            "min_width": null,
            "object_fit": null,
            "object_position": null,
            "order": null,
            "overflow": null,
            "overflow_x": null,
            "overflow_y": null,
            "padding": null,
            "right": null,
            "top": null,
            "visibility": null,
            "width": null
          }
        },
        "7f91dd749e704945ace19c3981d60eae": {
          "model_module": "@jupyter-widgets/controls",
          "model_name": "DescriptionStyleModel",
          "model_module_version": "1.5.0",
          "state": {
            "_model_module": "@jupyter-widgets/controls",
            "_model_module_version": "1.5.0",
            "_model_name": "DescriptionStyleModel",
            "_view_count": null,
            "_view_module": "@jupyter-widgets/base",
            "_view_module_version": "1.2.0",
            "_view_name": "StyleView",
            "description_width": ""
          }
        },
        "79d9007c15fd4115a91b7bf33f2dd11f": {
          "model_module": "@jupyter-widgets/base",
          "model_name": "LayoutModel",
          "model_module_version": "1.2.0",
          "state": {
            "_model_module": "@jupyter-widgets/base",
            "_model_module_version": "1.2.0",
            "_model_name": "LayoutModel",
            "_view_count": null,
            "_view_module": "@jupyter-widgets/base",
            "_view_module_version": "1.2.0",
            "_view_name": "LayoutView",
            "align_content": null,
            "align_items": null,
            "align_self": null,
            "border": null,
            "bottom": null,
            "display": null,
            "flex": null,
            "flex_flow": null,
            "grid_area": null,
            "grid_auto_columns": null,
            "grid_auto_flow": null,
            "grid_auto_rows": null,
            "grid_column": null,
            "grid_gap": null,
            "grid_row": null,
            "grid_template_areas": null,
            "grid_template_columns": null,
            "grid_template_rows": null,
            "height": null,
            "justify_content": null,
            "justify_items": null,
            "left": null,
            "margin": null,
            "max_height": null,
            "max_width": null,
            "min_height": null,
            "min_width": null,
            "object_fit": null,
            "object_position": null,
            "order": null,
            "overflow": null,
            "overflow_x": null,
            "overflow_y": null,
            "padding": null,
            "right": null,
            "top": null,
            "visibility": null,
            "width": null
          }
        },
        "21d1ce1581f749b4a89091537e2c4efa": {
          "model_module": "@jupyter-widgets/controls",
          "model_name": "ProgressStyleModel",
          "model_module_version": "1.5.0",
          "state": {
            "_model_module": "@jupyter-widgets/controls",
            "_model_module_version": "1.5.0",
            "_model_name": "ProgressStyleModel",
            "_view_count": null,
            "_view_module": "@jupyter-widgets/base",
            "_view_module_version": "1.2.0",
            "_view_name": "StyleView",
            "bar_color": null,
            "description_width": ""
          }
        },
        "96915df6067147dba70ee39c0a635052": {
          "model_module": "@jupyter-widgets/base",
          "model_name": "LayoutModel",
          "model_module_version": "1.2.0",
          "state": {
            "_model_module": "@jupyter-widgets/base",
            "_model_module_version": "1.2.0",
            "_model_name": "LayoutModel",
            "_view_count": null,
            "_view_module": "@jupyter-widgets/base",
            "_view_module_version": "1.2.0",
            "_view_name": "LayoutView",
            "align_content": null,
            "align_items": null,
            "align_self": null,
            "border": null,
            "bottom": null,
            "display": null,
            "flex": null,
            "flex_flow": null,
            "grid_area": null,
            "grid_auto_columns": null,
            "grid_auto_flow": null,
            "grid_auto_rows": null,
            "grid_column": null,
            "grid_gap": null,
            "grid_row": null,
            "grid_template_areas": null,
            "grid_template_columns": null,
            "grid_template_rows": null,
            "height": null,
            "justify_content": null,
            "justify_items": null,
            "left": null,
            "margin": null,
            "max_height": null,
            "max_width": null,
            "min_height": null,
            "min_width": null,
            "object_fit": null,
            "object_position": null,
            "order": null,
            "overflow": null,
            "overflow_x": null,
            "overflow_y": null,
            "padding": null,
            "right": null,
            "top": null,
            "visibility": null,
            "width": null
          }
        },
        "9a8df0b8173c4b2ea87b469fc8fc4b5a": {
          "model_module": "@jupyter-widgets/controls",
          "model_name": "DescriptionStyleModel",
          "model_module_version": "1.5.0",
          "state": {
            "_model_module": "@jupyter-widgets/controls",
            "_model_module_version": "1.5.0",
            "_model_name": "DescriptionStyleModel",
            "_view_count": null,
            "_view_module": "@jupyter-widgets/base",
            "_view_module_version": "1.2.0",
            "_view_name": "StyleView",
            "description_width": ""
          }
        }
      }
    }
  },
  "cells": [
    {
      "cell_type": "markdown",
      "metadata": {
        "id": "view-in-github",
        "colab_type": "text"
      },
      "source": [
        "<a href=\"https://colab.research.google.com/github/dldisha/ResNet/blob/main/Visualizations.ipynb\" target=\"_parent\"><img src=\"https://colab.research.google.com/assets/colab-badge.svg\" alt=\"Open In Colab\"/></a>"
      ]
    },
    {
      "cell_type": "markdown",
      "source": [
        "## Importing libraries"
      ],
      "metadata": {
        "id": "KLrJR7YZQQAA"
      }
    },
    {
      "cell_type": "code",
      "execution_count": 1,
      "metadata": {
        "id": "mlhbxDYyPLr0"
      },
      "outputs": [],
      "source": [
        "import torch\n",
        "import torch.nn as nn\n",
        "import torch.nn.init as init\n",
        "from prettytable import PrettyTable\n",
        "import torchvision\n",
        "import torchvision.transforms as transforms\n",
        "import torch.optim as optim\n",
        "import json\n",
        "import torchvision.datasets as datasets\n",
        "import matplotlib.pyplot as plt\n",
        "import numpy as np"
      ]
    },
    {
      "cell_type": "code",
      "source": [
        "def count_parameters(model):\n",
        "    table = PrettyTable([\"Modules\", \"Parameters\"])\n",
        "    total_params = 0\n",
        "    for name, parameter in model.named_parameters():\n",
        "        if not parameter.requires_grad: continue\n",
        "        params = parameter.numel()\n",
        "        table.add_row([name, params])\n",
        "        total_params += params\n",
        "    print(table)\n",
        "    print(f\"Total Trainable Params: {total_params}\")\n",
        "    return total_params"
      ],
      "metadata": {
        "id": "WcSkAobtQVjY"
      },
      "execution_count": 2,
      "outputs": []
    },
    {
      "cell_type": "markdown",
      "source": [
        "## ResNet Architecture:"
      ],
      "metadata": {
        "id": "1LfJ-RVzQfj1"
      }
    },
    {
      "cell_type": "code",
      "source": [
        "# N:    residual layer (default: 4)\n",
        "# B_i:  residual block in layer i (default: 2)\n",
        "# C_1:  channel in layer 1 (default: 64)\n",
        "# F_i:  filter in residual conv (default: 3)\n",
        "# K_i:  filter in connection conv (default: 1)\n",
        "# P:    average pooling size (default: 1)\n",
        "\n",
        "\n",
        "class DropBlock2D(nn.Module):\n",
        "    r\"\"\"Randomly zeroes 2D spatial blocks of the input tensor.\n",
        "    As described in the paper\n",
        "    `DropBlock: A regularization method for convolutional networks`_ ,\n",
        "    dropping whole blocks of feature map allows to remove semantic\n",
        "    information as compared to regular dropout.\n",
        "    Args:\n",
        "        drop_prob (float): probability of an element to be dropped.\n",
        "        block_size (int): size of the block to drop\n",
        "    Shape:\n",
        "        - Input: `(N, C, H, W)`\n",
        "        - Output: `(N, C, H, W)`\n",
        "    .. _DropBlock: A regularization method for convolutional networks:\n",
        "       https://arxiv.org/abs/1810.12890\n",
        "    \"\"\"\n",
        "\n",
        "    def __init__(self, drop_prob, block_size):\n",
        "        super(DropBlock2D, self).__init__()\n",
        "\n",
        "        self.drop_prob = drop_prob\n",
        "        self.block_size = block_size\n",
        "\n",
        "    def forward(self, x):\n",
        "        # shape: (bsize, channels, height, width)\n",
        "\n",
        "        assert x.dim() == 4, \\\n",
        "            \"Expected input with 4 dimensions (bsize, channels, height, width)\"\n",
        "\n",
        "        if not self.training or self.drop_prob == 0.:\n",
        "            return x\n",
        "        else:\n",
        "            # get gamma value\n",
        "            gamma = self._compute_gamma(x)\n",
        "\n",
        "            # sample mask\n",
        "            mask = (torch.rand(x.shape[0], *x.shape[2:]) < gamma).float()\n",
        "\n",
        "            # place mask on input device\n",
        "            mask = mask.to(x.device)\n",
        "\n",
        "            # compute block mask\n",
        "            block_mask = self._compute_block_mask(mask)\n",
        "\n",
        "            # apply block mask\n",
        "            out = x * block_mask[:, None, :, :]\n",
        "\n",
        "            # scale output\n",
        "            out = out * block_mask.numel() / block_mask.sum()\n",
        "\n",
        "            return out\n",
        "\n",
        "    def _compute_block_mask(self, mask):\n",
        "        block_mask = F.max_pool2d(input=mask[:, None, :, :],\n",
        "                                  kernel_size=(self.block_size, self.block_size),\n",
        "                                  stride=(1, 1),\n",
        "                                  padding=self.block_size // 2)\n",
        "\n",
        "        if self.block_size % 2 == 0:\n",
        "            block_mask = block_mask[:, :, :-1, :-1]\n",
        "\n",
        "        block_mask = 1 - block_mask.squeeze(1)\n",
        "\n",
        "        return block_mask\n",
        "\n",
        "    def _compute_gamma(self, x):\n",
        "        return self.drop_prob / (self.block_size ** 2)\n",
        "\n",
        "\n",
        "def convNxN(\n",
        "        C_in,\n",
        "        C_out,\n",
        "        F,\n",
        "        stride=1,\n",
        "        groups=1,\n",
        "        dilation=1,\n",
        "        padding=1\n",
        ") -> nn.Conv2d:\n",
        "    \"\"\"NxN convolution with padding\"\"\"\n",
        "    return nn.Conv2d(C_in, C_out, kernel_size=F, stride=stride,\n",
        "                     padding=padding, groups=groups, bias=False, dilation=dilation)\n",
        "\n",
        "\n",
        "class ResBlock(nn.Module):\n",
        "    def __init__(\n",
        "            self,\n",
        "            C_in,\n",
        "            C_out,\n",
        "            F,\n",
        "            stride=1,\n",
        "            groups=1,\n",
        "            dilation=1,\n",
        "            base_width=64,\n",
        "            downsample=None,\n",
        "            norm_layer=nn.BatchNorm2d\n",
        "    ) -> None:\n",
        "        super(ResBlock, self).__init__()\n",
        "        if groups != 1:\n",
        "            raise ValueError('BasicBlock only supports groups=1')\n",
        "        if dilation > 1:\n",
        "            raise NotImplementedError(\"Dilation > 1 not supported in BasicBlock\")\n",
        "        # Both self.conv1 and self.downsample layers downsample the input when stride != 1\n",
        "        self.conv1 = convNxN(C_in=C_in, C_out=C_out, F=F, stride=stride, padding=(F - 1) // 2)\n",
        "        self.bn1 = norm_layer(C_out)\n",
        "        self.relu = nn.ReLU(inplace=True)\n",
        "        self.conv2 = convNxN(C_in=C_out, C_out=C_out, F=F, stride=1, padding=(F - 1) // 2)\n",
        "        self.bn2 = norm_layer(C_out)\n",
        "        self.downsample = downsample\n",
        "\n",
        "    def forward(self, x):\n",
        "        identity = x\n",
        "\n",
        "        out = self.conv1(x)\n",
        "        out = self.bn1(out)\n",
        "        out = self.relu(out)\n",
        "\n",
        "        out = self.conv2(out)\n",
        "        out = self.bn2(out)\n",
        "\n",
        "        if self.downsample is not None:\n",
        "            identity = self.downsample(x)\n",
        "\n",
        "        out += identity\n",
        "        out = self.relu(out)\n",
        "\n",
        "        return out\n",
        "\n",
        "\n",
        "class ResNet(nn.Module):\n",
        "    def __init__(\n",
        "            self,\n",
        "            C_1,\n",
        "            N=4,\n",
        "            F=[3, 3, 3, 3],\n",
        "            B=[2, 2, 2, 2],\n",
        "            K=[1, 1, 1, 1],\n",
        "            P=1,\n",
        "            num_classes=10,\n",
        "            groups=1,\n",
        "            width_per_group=64,\n",
        "            norm_layer=nn.BatchNorm2d,\n",
        "            D_P=0.,\n",
        "            D_S=0,\n",
        "            D_F=0.\n",
        "    ) -> None:\n",
        "        super(ResNet, self).__init__()\n",
        "        self._norm_layer = norm_layer\n",
        "        self.inplanes = C_1\n",
        "        self.dilation = 1\n",
        "        self.groups = groups\n",
        "        self.base_width = width_per_group\n",
        "        # Input Layer\n",
        "        self.conv1 = nn.Conv2d(3, self.inplanes, kernel_size=F[0], stride=2, padding=(F[0] - 1) // 2, bias=False)\n",
        "        self.bn1 = norm_layer(self.inplanes)\n",
        "        self.relu = nn.ReLU(inplace=True)\n",
        "\n",
        "        self.layer1 = self._make_layer(self.inplanes, self.inplanes,\n",
        "                                       K[0], F[0], B[0], dropout_prob=D_P, dropout_size=D_S)\n",
        "        layer2 = []\n",
        "        for i in range(N - 1):\n",
        "            layer2.append(self._make_layer(self.inplanes * (2 ** i),\n",
        "                                           self.inplanes * (2 ** (i + 1)),\n",
        "                                           K[i], F[i], B[i], stride=2,\n",
        "                                           dropout_prob=D_P, dropout_size=D_S))\n",
        "        self.layer2 = nn.Sequential(*layer2)\n",
        "        self.avgpool = nn.AdaptiveAvgPool2d((P, P))\n",
        "        final_input = int(self.inplanes * (2 ** (N - 1)) * (P ** 2))\n",
        "        if D_F > 0.:\n",
        "            self.fc = nn.Sequential(\n",
        "                nn.Dropout(D_F),\n",
        "                nn.Linear(final_input, num_classes),\n",
        "            )\n",
        "        else:\n",
        "            self.fc = nn.Linear(final_input, num_classes)\n",
        "\n",
        "        for m in self.modules():\n",
        "            if isinstance(m, nn.Conv2d):\n",
        "                nn.init.kaiming_normal_(m.weight, mode='fan_out', nonlinearity='relu')\n",
        "            elif isinstance(m, (nn.BatchNorm2d, nn.GroupNorm)):\n",
        "                nn.init.constant_(m.weight, 1)\n",
        "                nn.init.constant_(m.bias, 0)\n",
        "\n",
        "    def _make_layer(self, inplanes, planes, K, F, blocks, dropout_prob=0, dropout_size=0, stride=1):\n",
        "        if inplanes == planes:\n",
        "            downsample = None\n",
        "        else:\n",
        "            downsample = nn.Sequential(\n",
        "                nn.Conv2d(inplanes, planes, kernel_size=K, stride=stride, padding=(K - 1) // 2, bias=False),\n",
        "                nn.BatchNorm2d(planes),\n",
        "            )\n",
        "\n",
        "        layers = []\n",
        "        layers.append(ResBlock(inplanes, planes, F, stride, downsample=downsample))\n",
        "        for _ in range(1, blocks):\n",
        "            layers.append(ResBlock(planes, planes, F, downsample=None))\n",
        "        if dropout_prob > 0:\n",
        "            layers.append(DropBlock2D(dropout_prob, dropout_size))\n",
        "\n",
        "        return nn.Sequential(*layers)\n",
        "\n",
        "    def forward(self, x):\n",
        "        x = self.conv1(x)\n",
        "        x = self.bn1(x)\n",
        "        x = self.relu(x)\n",
        "\n",
        "        x = self.layer1(x)\n",
        "        for layer in self.layer2:\n",
        "            x = layer(x)\n",
        "        x = self.avgpool(x)\n",
        "        x = torch.flatten(x, 1)\n",
        "        x = self.fc(x)\n",
        "\n",
        "        return x\n",
        "\n",
        "if __name__ == '__main__':\n",
        "    model = ResNet(128, N=1, F=[3, 3, 3, 3], B=[2, 2, 2, 2], K=[1, 1, 1, 1], P=1)\n",
        "    # model = ResNet(64, N=5, F=[3 for _ in range(5)], B=[2 for _ in range(5)], K=[1 for _ in range(5)], P=1)\n",
        "    images = torch.randn(10, 3, 32, 32)\n",
        "    print(model)\n",
        "    print(count_parameters(model) / 1000 / 1000)\n",
        "    print(images.size())\n",
        "    outputs = model(images)\n",
        "    print(outputs.size())"
      ],
      "metadata": {
        "colab": {
          "base_uri": "https://localhost:8080/"
        },
        "id": "HhKIlD00Qk4m",
        "outputId": "6aeb385a-b5c8-4ba5-ed74-b4b5a0fa6005"
      },
      "execution_count": 3,
      "outputs": [
        {
          "output_type": "stream",
          "name": "stdout",
          "text": [
            "ResNet(\n",
            "  (conv1): Conv2d(3, 128, kernel_size=(3, 3), stride=(2, 2), padding=(1, 1), bias=False)\n",
            "  (bn1): BatchNorm2d(128, eps=1e-05, momentum=0.1, affine=True, track_running_stats=True)\n",
            "  (relu): ReLU(inplace=True)\n",
            "  (layer1): Sequential(\n",
            "    (0): ResBlock(\n",
            "      (conv1): Conv2d(128, 128, kernel_size=(3, 3), stride=(1, 1), padding=(1, 1), bias=False)\n",
            "      (bn1): BatchNorm2d(128, eps=1e-05, momentum=0.1, affine=True, track_running_stats=True)\n",
            "      (relu): ReLU(inplace=True)\n",
            "      (conv2): Conv2d(128, 128, kernel_size=(3, 3), stride=(1, 1), padding=(1, 1), bias=False)\n",
            "      (bn2): BatchNorm2d(128, eps=1e-05, momentum=0.1, affine=True, track_running_stats=True)\n",
            "    )\n",
            "    (1): ResBlock(\n",
            "      (conv1): Conv2d(128, 128, kernel_size=(3, 3), stride=(1, 1), padding=(1, 1), bias=False)\n",
            "      (bn1): BatchNorm2d(128, eps=1e-05, momentum=0.1, affine=True, track_running_stats=True)\n",
            "      (relu): ReLU(inplace=True)\n",
            "      (conv2): Conv2d(128, 128, kernel_size=(3, 3), stride=(1, 1), padding=(1, 1), bias=False)\n",
            "      (bn2): BatchNorm2d(128, eps=1e-05, momentum=0.1, affine=True, track_running_stats=True)\n",
            "    )\n",
            "  )\n",
            "  (layer2): Sequential()\n",
            "  (avgpool): AdaptiveAvgPool2d(output_size=(1, 1))\n",
            "  (fc): Linear(in_features=128, out_features=10, bias=True)\n",
            ")\n",
            "+-----------------------+------------+\n",
            "|        Modules        | Parameters |\n",
            "+-----------------------+------------+\n",
            "|      conv1.weight     |    3456    |\n",
            "|       bn1.weight      |    128     |\n",
            "|        bn1.bias       |    128     |\n",
            "| layer1.0.conv1.weight |   147456   |\n",
            "|  layer1.0.bn1.weight  |    128     |\n",
            "|   layer1.0.bn1.bias   |    128     |\n",
            "| layer1.0.conv2.weight |   147456   |\n",
            "|  layer1.0.bn2.weight  |    128     |\n",
            "|   layer1.0.bn2.bias   |    128     |\n",
            "| layer1.1.conv1.weight |   147456   |\n",
            "|  layer1.1.bn1.weight  |    128     |\n",
            "|   layer1.1.bn1.bias   |    128     |\n",
            "| layer1.1.conv2.weight |   147456   |\n",
            "|  layer1.1.bn2.weight  |    128     |\n",
            "|   layer1.1.bn2.bias   |    128     |\n",
            "|       fc.weight       |    1280    |\n",
            "|        fc.bias        |     10     |\n",
            "+-----------------------+------------+\n",
            "Total Trainable Params: 595850\n",
            "0.59585\n",
            "torch.Size([10, 3, 32, 32])\n",
            "torch.Size([10, 10])\n"
          ]
        }
      ]
    },
    {
      "cell_type": "markdown",
      "source": [
        "## Hyperparameter setting\n"
      ],
      "metadata": {
        "id": "WwvoE4vVTelE"
      }
    },
    {
      "cell_type": "code",
      "source": [
        "params = {\n",
        "    'batch_size': 64,\n",
        "    'lr': 0.001,\n",
        "    'workers': 0,\n",
        "    'classes': ('plane', 'car', 'bird', 'cat', 'deer', 'dog', 'frog', 'horse', 'ship', 'truck'),\n",
        "    'gpu': True,\n",
        "    'epoch': 40,\n",
        "}\n",
        "\n",
        "\n",
        "def count_parameters(model):\n",
        "    table = PrettyTable([\"Modules\", \"Parameters\"])\n",
        "    total_params = 0\n",
        "    for name, parameter in model.named_parameters():\n",
        "        if not parameter.requires_grad: continue\n",
        "        params = parameter.numel()\n",
        "        table.add_row([name, params])\n",
        "        total_params += params\n",
        "    print(table)\n",
        "    print(f\"Total Trainable Params: {total_params}\")\n",
        "    return total_params\n",
        "\n",
        "\n",
        "transform = transforms.Compose(\n",
        "    [transforms.ToTensor(),\n",
        "     transforms.Normalize((0.5, 0.5, 0.5), (0.5, 0.5, 0.5))])\n",
        "\n",
        "trainset = torchvision.datasets.CIFAR10(root='data', train=True, download=True, transform=transform)\n",
        "trainloader = torch.utils.data.DataLoader(trainset, batch_size=params['batch_size'], shuffle=True,\n",
        "                                          num_workers=params['workers'])\n",
        "\n",
        "testset = torchvision.datasets.CIFAR10(root='data', train=False, download=True, transform=transform)\n",
        "testloader = torch.utils.data.DataLoader(testset, batch_size=params['batch_size'], shuffle=False,\n",
        "                                         num_workers=params['workers'])\n",
        "\n",
        "\n",
        "def run(hp):\n",
        "    name = json.dumps(hp)\n",
        "    net = ResNet(**hp)\n",
        "    params_size = count_parameters(net) / 1000000.\n",
        "    if params_size > 5.:\n",
        "        print(params_size)\n",
        "        raise AssertionError\n",
        "    if params['gpu']:\n",
        "        net = net.cuda()\n",
        "\n",
        "    criterion = nn.CrossEntropyLoss()\n",
        "    optimizer = optim.Adam(net.parameters(), lr=params['lr'])\n",
        "\n",
        "    hp['score'] = 0.0\n",
        "    hp['epoch'] = 0\n",
        "    iter_ = 0\n",
        "    for epoch in range(params['epoch']):\n",
        "        for i, data in enumerate(trainloader):\n",
        "            iter_ += 1\n",
        "\n",
        "            inputs, labels = data\n",
        "            if params['gpu']:\n",
        "                inputs = inputs.cuda()\n",
        "                labels = labels.cuda()\n",
        "\n",
        "            outputs = net(inputs)\n",
        "            loss = criterion(outputs, labels)\n",
        "\n",
        "            optimizer.zero_grad()\n",
        "            loss.backward()\n",
        "            optimizer.step()\n",
        "\n",
        "            if iter_ % 100 == 99:\n",
        "                correct = 0\n",
        "                total = 0\n",
        "                with torch.no_grad():\n",
        "                    for test_data in testloader:\n",
        "                        inputs, labels = test_data\n",
        "                        if params['gpu']:\n",
        "                            inputs = inputs.cuda()\n",
        "                            labels = labels.cuda()\n",
        "                        outputs = net(inputs)\n",
        "                        _, predicted = torch.max(outputs.data, 1)\n",
        "                        total += labels.size(0)\n",
        "                        correct += (predicted == labels).sum().item()\n",
        "                if hp['score'] < correct / total:\n",
        "                    hp['score'] = correct / total\n",
        "                    hp['epoch'] = epoch\n",
        "                    torch.save(net.state_dict(), name + '.pt')\n",
        "    #with open('/content/drive/MyDrive/2022-spring-deep-learning-project/parameters.json' + name + '.json', 'w') as f:\n",
        "    with open('/content/drive/MyDrive/parameters.json' + name + '.json', 'w') as f:\n",
        "        json.dump(hp, f)\n",
        "    return hp\n",
        "\n",
        "\n",
        "if __name__ == '__main__':\n",
        "    hyperparams = {\n",
        "        'N': 3,\n",
        "        'C_1': 64,\n",
        "        'P': 1,\n",
        "        'B': [2, 2, 2, 2],\n",
        "        'F': [3, 3, 3, 3],\n",
        "        'K': [1, 1, 1, 1],\n",
        "    }\n",
        "    #with open('/content/drive/MyDrive/2022-spring-deep-learning-project/parameters.json', 'r') as f:\n",
        "    # with open('/content/drive/MyDrive/parameters.json', 'r') as f:\n",
        "    #   candidates = json.load(f)\n",
        "    # for i in range(22, 43):\n",
        "    #   hyperparams = candidates[str(i)]\n",
        "    #   print (hyperparams)\n",
        "    #   run(hyperparams)\n",
        "  "
      ],
      "metadata": {
        "colab": {
          "base_uri": "https://localhost:8080/",
          "height": 103,
          "referenced_widgets": [
            "03a191f0c1c34a2aaab4e3c506dcf912",
            "9197192647334bdab5d6e88b2bf8046b",
            "5082cb2ab3914bc9847d0ee6ddb1c047",
            "738954e2fffe4b2ea22f1868d0096a2c",
            "b841e211ec274ddcbaf0311487663699",
            "fe8b1738b3ef48d8a12401102dce6e1a",
            "7f91dd749e704945ace19c3981d60eae",
            "79d9007c15fd4115a91b7bf33f2dd11f",
            "21d1ce1581f749b4a89091537e2c4efa",
            "96915df6067147dba70ee39c0a635052",
            "9a8df0b8173c4b2ea87b469fc8fc4b5a"
          ]
        },
        "id": "Hk7xq6KCRCmI",
        "outputId": "0342321c-5d61-4284-eab3-f978d6f3ce55"
      },
      "execution_count": 4,
      "outputs": [
        {
          "output_type": "stream",
          "name": "stdout",
          "text": [
            "Downloading https://www.cs.toronto.edu/~kriz/cifar-10-python.tar.gz to data/cifar-10-python.tar.gz\n"
          ]
        },
        {
          "output_type": "display_data",
          "data": {
            "text/plain": [
              "  0%|          | 0/170498071 [00:00<?, ?it/s]"
            ],
            "application/vnd.jupyter.widget-view+json": {
              "version_major": 2,
              "version_minor": 0,
              "model_id": "03a191f0c1c34a2aaab4e3c506dcf912"
            }
          },
          "metadata": {}
        },
        {
          "output_type": "stream",
          "name": "stdout",
          "text": [
            "Extracting data/cifar-10-python.tar.gz to data\n",
            "Files already downloaded and verified\n"
          ]
        }
      ]
    },
    {
      "cell_type": "markdown",
      "source": [
        "## Hyperparameters Experiment\n",
        "Using compound scaling method"
      ],
      "metadata": {
        "id": "9treLgx3Yub3"
      }
    },
    {
      "cell_type": "code",
      "source": [
        "import numpy as np\n",
        "import pandas as pd\n",
        "import matplotlib.pyplot as plt\n",
        "import seaborn as sns\n",
        "\n",
        "data = pd.read_csv(\"new-results.csv\")\n",
        "for key in ['B', 'F', 'K']:\n",
        "    items = data[key].tolist()\n",
        "    items = [str(i[1]) for i in items]\n",
        "    data[key] = items\n",
        "\n",
        "# score range:\n",
        "# 0 for <80\n",
        "# 1 for 80 - 85\n",
        "# 2 for 85 - 90\n",
        "# 3 for >90\n",
        "\n",
        "data['score'] = np.where(\n",
        "   (data['score'] >= 0.70) & (data['score'] < 0.80) , 0, data['score']\n",
        "   )\n",
        "\n",
        "data['score'] = np.where(\n",
        "   (data['score'] >= 0.8) & (data['score'] < 0.85) , 1, data['score']\n",
        "   )\n",
        "\n",
        "data['score'] = np.where(\n",
        "   (data['score'] >= 0.85) & (data['score'] < 0.90) , 2, data['score']\n",
        "   )\n",
        "\n",
        "data['score'] = np.where(\n",
        "   (data['score'] >= 0.9) & (data['score'] < 0.95) , 3, data['score']\n",
        "   )\n",
        "\n",
        "print(data.head(10))\n",
        "\n"
      ],
      "metadata": {
        "id": "yJMuGY6DYs8P",
        "colab": {
          "base_uri": "https://localhost:8080/"
        },
        "outputId": "1732a74c-1146-4825-cefe-2037a75dfc07"
      },
      "execution_count": null,
      "outputs": [
        {
          "output_type": "stream",
          "name": "stdout",
          "text": [
            "   Unnamed: 0  N  C_1  P  B  F  K  score  epoch\n",
            "0           0  1  128  1  2  3  1    2.0     48\n",
            "1           1  3   32  1  1  3  1    2.0     48\n",
            "2           2  3   64  2  3  3  1    2.0     45\n",
            "3           3  4   16  1  2  3  1    1.0     48\n",
            "4           4  2   64  1  3  5  1    2.0     46\n",
            "5           5  2   64  1  2  7  5    2.0     48\n",
            "6           6  2   64  1  1  5  3    2.0     48\n",
            "7           7  3   16  1  3  3  1    1.0     48\n",
            "8           8  2  128  2  3  3  3    3.0     42\n",
            "9           9  5   16  2  1  3  1    0.0     47\n"
          ]
        }
      ]
    },
    {
      "cell_type": "code",
      "source": [
        "data.corr()"
      ],
      "metadata": {
        "colab": {
          "base_uri": "https://localhost:8080/",
          "height": 237
        },
        "id": "eSAPW8_oy7S-",
        "outputId": "9e2ba43e-181d-4809-b5ce-378bd9f99299"
      },
      "execution_count": null,
      "outputs": [
        {
          "output_type": "execute_result",
          "data": {
            "text/plain": [
              "            Unnamed: 0         N       C_1         P     score     epoch\n",
              "Unnamed: 0    1.000000  0.048256 -0.059715 -0.006416 -0.182269 -0.126119\n",
              "N             0.048256  1.000000 -0.587654 -0.245035 -0.086695  0.064043\n",
              "C_1          -0.059715 -0.587654  1.000000  0.240350  0.203561 -0.078566\n",
              "P            -0.006416 -0.245035  0.240350  1.000000 -0.063813 -0.213177\n",
              "score        -0.182269 -0.086695  0.203561 -0.063813  1.000000  0.182274\n",
              "epoch        -0.126119  0.064043 -0.078566 -0.213177  0.182274  1.000000"
            ],
            "text/html": [
              "\n",
              "  <div id=\"df-739587ba-c17c-418e-ade0-3e223a3bfdcb\">\n",
              "    <div class=\"colab-df-container\">\n",
              "      <div>\n",
              "<style scoped>\n",
              "    .dataframe tbody tr th:only-of-type {\n",
              "        vertical-align: middle;\n",
              "    }\n",
              "\n",
              "    .dataframe tbody tr th {\n",
              "        vertical-align: top;\n",
              "    }\n",
              "\n",
              "    .dataframe thead th {\n",
              "        text-align: right;\n",
              "    }\n",
              "</style>\n",
              "<table border=\"1\" class=\"dataframe\">\n",
              "  <thead>\n",
              "    <tr style=\"text-align: right;\">\n",
              "      <th></th>\n",
              "      <th>Unnamed: 0</th>\n",
              "      <th>N</th>\n",
              "      <th>C_1</th>\n",
              "      <th>P</th>\n",
              "      <th>score</th>\n",
              "      <th>epoch</th>\n",
              "    </tr>\n",
              "  </thead>\n",
              "  <tbody>\n",
              "    <tr>\n",
              "      <th>Unnamed: 0</th>\n",
              "      <td>1.000000</td>\n",
              "      <td>0.048256</td>\n",
              "      <td>-0.059715</td>\n",
              "      <td>-0.006416</td>\n",
              "      <td>-0.182269</td>\n",
              "      <td>-0.126119</td>\n",
              "    </tr>\n",
              "    <tr>\n",
              "      <th>N</th>\n",
              "      <td>0.048256</td>\n",
              "      <td>1.000000</td>\n",
              "      <td>-0.587654</td>\n",
              "      <td>-0.245035</td>\n",
              "      <td>-0.086695</td>\n",
              "      <td>0.064043</td>\n",
              "    </tr>\n",
              "    <tr>\n",
              "      <th>C_1</th>\n",
              "      <td>-0.059715</td>\n",
              "      <td>-0.587654</td>\n",
              "      <td>1.000000</td>\n",
              "      <td>0.240350</td>\n",
              "      <td>0.203561</td>\n",
              "      <td>-0.078566</td>\n",
              "    </tr>\n",
              "    <tr>\n",
              "      <th>P</th>\n",
              "      <td>-0.006416</td>\n",
              "      <td>-0.245035</td>\n",
              "      <td>0.240350</td>\n",
              "      <td>1.000000</td>\n",
              "      <td>-0.063813</td>\n",
              "      <td>-0.213177</td>\n",
              "    </tr>\n",
              "    <tr>\n",
              "      <th>score</th>\n",
              "      <td>-0.182269</td>\n",
              "      <td>-0.086695</td>\n",
              "      <td>0.203561</td>\n",
              "      <td>-0.063813</td>\n",
              "      <td>1.000000</td>\n",
              "      <td>0.182274</td>\n",
              "    </tr>\n",
              "    <tr>\n",
              "      <th>epoch</th>\n",
              "      <td>-0.126119</td>\n",
              "      <td>0.064043</td>\n",
              "      <td>-0.078566</td>\n",
              "      <td>-0.213177</td>\n",
              "      <td>0.182274</td>\n",
              "      <td>1.000000</td>\n",
              "    </tr>\n",
              "  </tbody>\n",
              "</table>\n",
              "</div>\n",
              "      <button class=\"colab-df-convert\" onclick=\"convertToInteractive('df-739587ba-c17c-418e-ade0-3e223a3bfdcb')\"\n",
              "              title=\"Convert this dataframe to an interactive table.\"\n",
              "              style=\"display:none;\">\n",
              "        \n",
              "  <svg xmlns=\"http://www.w3.org/2000/svg\" height=\"24px\"viewBox=\"0 0 24 24\"\n",
              "       width=\"24px\">\n",
              "    <path d=\"M0 0h24v24H0V0z\" fill=\"none\"/>\n",
              "    <path d=\"M18.56 5.44l.94 2.06.94-2.06 2.06-.94-2.06-.94-.94-2.06-.94 2.06-2.06.94zm-11 1L8.5 8.5l.94-2.06 2.06-.94-2.06-.94L8.5 2.5l-.94 2.06-2.06.94zm10 10l.94 2.06.94-2.06 2.06-.94-2.06-.94-.94-2.06-.94 2.06-2.06.94z\"/><path d=\"M17.41 7.96l-1.37-1.37c-.4-.4-.92-.59-1.43-.59-.52 0-1.04.2-1.43.59L10.3 9.45l-7.72 7.72c-.78.78-.78 2.05 0 2.83L4 21.41c.39.39.9.59 1.41.59.51 0 1.02-.2 1.41-.59l7.78-7.78 2.81-2.81c.8-.78.8-2.07 0-2.86zM5.41 20L4 18.59l7.72-7.72 1.47 1.35L5.41 20z\"/>\n",
              "  </svg>\n",
              "      </button>\n",
              "      \n",
              "  <style>\n",
              "    .colab-df-container {\n",
              "      display:flex;\n",
              "      flex-wrap:wrap;\n",
              "      gap: 12px;\n",
              "    }\n",
              "\n",
              "    .colab-df-convert {\n",
              "      background-color: #E8F0FE;\n",
              "      border: none;\n",
              "      border-radius: 50%;\n",
              "      cursor: pointer;\n",
              "      display: none;\n",
              "      fill: #1967D2;\n",
              "      height: 32px;\n",
              "      padding: 0 0 0 0;\n",
              "      width: 32px;\n",
              "    }\n",
              "\n",
              "    .colab-df-convert:hover {\n",
              "      background-color: #E2EBFA;\n",
              "      box-shadow: 0px 1px 2px rgba(60, 64, 67, 0.3), 0px 1px 3px 1px rgba(60, 64, 67, 0.15);\n",
              "      fill: #174EA6;\n",
              "    }\n",
              "\n",
              "    [theme=dark] .colab-df-convert {\n",
              "      background-color: #3B4455;\n",
              "      fill: #D2E3FC;\n",
              "    }\n",
              "\n",
              "    [theme=dark] .colab-df-convert:hover {\n",
              "      background-color: #434B5C;\n",
              "      box-shadow: 0px 1px 3px 1px rgba(0, 0, 0, 0.15);\n",
              "      filter: drop-shadow(0px 1px 2px rgba(0, 0, 0, 0.3));\n",
              "      fill: #FFFFFF;\n",
              "    }\n",
              "  </style>\n",
              "\n",
              "      <script>\n",
              "        const buttonEl =\n",
              "          document.querySelector('#df-739587ba-c17c-418e-ade0-3e223a3bfdcb button.colab-df-convert');\n",
              "        buttonEl.style.display =\n",
              "          google.colab.kernel.accessAllowed ? 'block' : 'none';\n",
              "\n",
              "        async function convertToInteractive(key) {\n",
              "          const element = document.querySelector('#df-739587ba-c17c-418e-ade0-3e223a3bfdcb');\n",
              "          const dataTable =\n",
              "            await google.colab.kernel.invokeFunction('convertToInteractive',\n",
              "                                                     [key], {});\n",
              "          if (!dataTable) return;\n",
              "\n",
              "          const docLinkHtml = 'Like what you see? Visit the ' +\n",
              "            '<a target=\"_blank\" href=https://colab.research.google.com/notebooks/data_table.ipynb>data table notebook</a>'\n",
              "            + ' to learn more about interactive tables.';\n",
              "          element.innerHTML = '';\n",
              "          dataTable['output_type'] = 'display_data';\n",
              "          await google.colab.output.renderOutput(dataTable, element);\n",
              "          const docLink = document.createElement('div');\n",
              "          docLink.innerHTML = docLinkHtml;\n",
              "          element.appendChild(docLink);\n",
              "        }\n",
              "      </script>\n",
              "    </div>\n",
              "  </div>\n",
              "  "
            ]
          },
          "metadata": {},
          "execution_count": 2
        }
      ]
    },
    {
      "cell_type": "code",
      "source": [
        "plt.figure(figsize=(10, 5))\n",
        "heatmap = sns.heatmap(data.corr(), vmin=-1, vmax=1, annot=True)\n",
        "heatmap.set_title('Correlation Heatmap', fontdict={'fontsize':12}, pad=12);"
      ],
      "metadata": {
        "colab": {
          "base_uri": "https://localhost:8080/",
          "height": 343
        },
        "id": "P9Vy9SgW2OC1",
        "outputId": "0f5749ce-9d57-4fd8-975c-b6fd108289ed"
      },
      "execution_count": null,
      "outputs": [
        {
          "output_type": "display_data",
          "data": {
            "text/plain": [
              "<Figure size 720x360 with 2 Axes>"
            ],
            "image/png": "[encoded data removed]"
          },
          "metadata": {
            "needs_background": "light"
          }
        }
      ]
    },
    {
      "cell_type": "markdown",
      "source": [
        "The correlation graph makes us conclude the N, C_1 are highly related to eachother. So, we will start"
      ],
      "metadata": {
        "id": "EvVaLWOCf2mo"
      }
    },
    {
      "cell_type": "code",
      "source": [
        "graph = sns.FacetGrid(data, col =\"P\",  hue =\"score\")\n",
        "# map the above form facetgrid with some attributes\n",
        "graph.map(plt.scatter, \"C_1\", \"N\", edgecolor =\"w\").add_legend()\n",
        "# show the object\n",
        "plt.show()"
      ],
      "metadata": {
        "colab": {
          "base_uri": "https://localhost:8080/",
          "height": 225
        },
        "id": "L2poSc8P-aAq",
        "outputId": "6273bbe9-2839-4d70-f6ae-687f5b9c7384"
      },
      "execution_count": null,
      "outputs": [
        {
          "output_type": "display_data",
          "data": {
            "text/plain": [
              "<Figure size 718.875x216 with 3 Axes>"
            ],
            "image/png": "[encoded data removed]"
          },
          "metadata": {
            "needs_background": "light"
          }
        }
      ]
    },
    {
      "cell_type": "code",
      "source": [
        "graph = sns.FacetGrid(data, col =\"B\",  hue =\"score\")\n",
        "# map the above form facetgrid with some attributes\n",
        "graph.map(plt.scatter, \"C_1\", \"N\", edgecolor =\"w\").add_legend()\n",
        "# show the object\n",
        "plt.show()"
      ],
      "metadata": {
        "colab": {
          "base_uri": "https://localhost:8080/",
          "height": 225
        },
        "id": "AY6lpKi5VPiI",
        "outputId": "b840163b-8dae-4858-cf1e-c2b67875d0cd"
      },
      "execution_count": null,
      "outputs": [
        {
          "output_type": "display_data",
          "data": {
            "text/plain": [
              "<Figure size 718.875x216 with 3 Axes>"
            ],
            "image/png": "[encoded data removed]"
          },
          "metadata": {
            "needs_background": "light"
          }
        }
      ]
    },
    {
      "cell_type": "markdown",
      "source": [
        "From the above graphs, we can observe that for N=2, C_1 = 128, P=1,2 and B=2,3 we get a score of 3 which means accuracy >90%.\n",
        "\n",
        "If we fix these conditions, we can have another graph which will help us get values for F, K."
      ],
      "metadata": {
        "id": "c_4I-6JmdiMF"
      }
    },
    {
      "cell_type": "markdown",
      "source": [
        "Now we will plot graph between P, B, F, K for N=2, C_1 = 128 and score >90%."
      ],
      "metadata": {
        "id": "35tlKnivezzB"
      }
    },
    {
      "cell_type": "code",
      "source": [
        "#filter dataframe\n",
        "c1 = data.loc[(data['N']==2) & (data['C_1']== 128) & (data['score'] == 3)]\n",
        "print(c1)"
      ],
      "metadata": {
        "colab": {
          "base_uri": "https://localhost:8080/"
        },
        "id": "i33Rwt0JY0Rg",
        "outputId": "5bad73e9-5deb-46a2-9f27-f2330e023a85"
      },
      "execution_count": null,
      "outputs": [
        {
          "output_type": "stream",
          "name": "stdout",
          "text": [
            "     Unnamed: 0  N  C_1  P  B  F  K  score  epoch\n",
            "8             8  2  128  2  3  3  3    3.0     42\n",
            "13           13  2  128  1  3  3  3    3.0     49\n",
            "36           36  2  128  2  3  3  5    3.0     48\n",
            "51           51  2  128  1  3  3  1    3.0     48\n",
            "58           58  2  128  2  2  3  1    3.0     47\n",
            "61           61  2  128  2  3  3  1    3.0     47\n",
            "112         112  2  128  1  2  3  1    3.0     48\n",
            "126         126  2  128  1  3  3  5    3.0     46\n"
          ]
        }
      ]
    },
    {
      "cell_type": "code",
      "source": [
        "graph = sns.FacetGrid(c1, col =\"F\",  hue =\"P\")\n",
        "# map the above form facetgrid with some attributes\n",
        "graph.map(plt.scatter, \"B\", \"K\", edgecolor =\"w\").add_legend()\n",
        "# show the object\n",
        "plt.show()"
      ],
      "metadata": {
        "colab": {
          "base_uri": "https://localhost:8080/",
          "height": 225
        },
        "id": "SNl6rs1qcTxv",
        "outputId": "5e4091bb-8b12-4142-dff8-9bd865988f39"
      },
      "execution_count": null,
      "outputs": [
        {
          "output_type": "display_data",
          "data": {
            "text/plain": [
              "<Figure size 258.375x216 with 1 Axes>"
            ],
            "image/png": "[encoded data removed]"
          },
          "metadata": {
            "needs_background": "light"
          }
        }
      ]
    },
    {
      "cell_type": "markdown",
      "source": [
        "From the above graph, we get our hyperparameters as\n",
        "\n",
        "N = 2\n",
        "\n",
        "C_1 = 128\n",
        "\n",
        "P = 2\n",
        "\n",
        "B = 3\n",
        "\n",
        "F = 3\n",
        "\n",
        "K = [1,3,5]\n"
      ],
      "metadata": {
        "id": "xRKHy5o7fCGS"
      }
    },
    {
      "cell_type": "markdown",
      "source": [
        "## Ground Truth for Training and Validation Dataset"
      ],
      "metadata": {
        "id": "_mBRG6S4ZgeT"
      }
    },
    {
      "cell_type": "code",
      "source": [
        "normalize = transforms.Normalize(mean=[0.5, 0.5, 0.5],\n",
        "                                     std=[0.5, 0.5, 0.5])\n",
        "training_loader = torch.utils.data.DataLoader(\n",
        "        datasets.CIFAR10(root='./data', train=True, transform=transforms.Compose([\n",
        "            transforms.RandomHorizontalFlip(),\n",
        "            transforms.RandomCrop(32, 4),\n",
        "            transforms.ToTensor(),\n",
        "            normalize,\n",
        "        ]), download=True),\n",
        "        batch_size=64, shuffle=True,\n",
        "        num_workers=4, pin_memory=True)\n",
        "\n",
        "validation_loader = torch.utils.data.DataLoader(\n",
        "        datasets.CIFAR10(root='./data', train=False, transform=transforms.Compose([\n",
        "            transforms.ToTensor(),\n",
        "            normalize,\n",
        "        ])),\n",
        "        batch_size=128, shuffle=False,\n",
        "        num_workers=4, pin_memory=True)\n",
        "\n",
        "\n",
        "classes = ('plane', 'car', 'bird', 'cat',\n",
        "           'deer', 'dog', 'frog', 'horse', 'ship', 'truck')\n",
        "\n",
        "# functions to show an image\n",
        "%matplotlib inline\n",
        "%config InlineBackend.figure_format = 'retina'\n",
        "def imshow(img):\n",
        "    img = img / 2 + 0.5     # unnormalize\n",
        "    npimg = img.numpy()\n",
        "    plt.imshow(np.transpose(npimg, (1, 2, 0)))\n",
        "\n",
        "\n",
        "# get some random training images\n",
        "dataiter = iter(training_loader)\n",
        "images, labels = dataiter.next()\n",
        "plt.figure(figsize=(20,10)) \n",
        "\n",
        "# show images\n",
        "imshow(torchvision.utils.make_grid(images[0:8,:,:]))\n",
        "# print labels\n",
        "print(' '.join('%15s' % classes[labels[j]] for j in range(8)))"
      ],
      "metadata": {
        "colab": {
          "base_uri": "https://localhost:8080/",
          "height": 288
        },
        "id": "yNpp3dFyZlEz",
        "outputId": "deec8c32-72ba-48e8-907d-c9b91bec3a38"
      },
      "execution_count": 7,
      "outputs": [
        {
          "output_type": "stream",
          "name": "stdout",
          "text": [
            "Files already downloaded and verified\n"
          ]
        },
        {
          "output_type": "stream",
          "name": "stderr",
          "text": [
            "/usr/local/lib/python3.7/dist-packages/torch/utils/data/dataloader.py:481: UserWarning: This DataLoader will create 4 worker processes in total. Our suggested max number of worker in current system is 2, which is smaller than what this DataLoader is going to create. Please be aware that excessive worker creation might get DataLoader running slow or even freeze, lower the worker number to avoid potential slowness/freeze if necessary.\n",
            "  cpuset_checked))\n"
          ]
        },
        {
          "output_type": "stream",
          "name": "stdout",
          "text": [
            "           ship             dog            deer            ship           plane           plane             cat            bird\n"
          ]
        },
        {
          "output_type": "display_data",
          "data": {
            "text/plain": [
              "<Figure size 1440x720 with 1 Axes>"
            ],
            "image/png": "[encoded data removed]"
          },
          "metadata": {
            "image/png": {
              "width": 1150,
              "height": 179
            },
            "needs_background": "light"
          }
        }
      ]
    },
    {
      "cell_type": "markdown",
      "source": [
        "## Training and Test Error"
      ],
      "metadata": {
        "id": "gPngQbrmxEip"
      }
    },
    {
      "cell_type": "code",
      "source": [
        ""
      ],
      "metadata": {
        "id": "6m3bP-yqxD9Z"
      },
      "execution_count": null,
      "outputs": []
    }
  ]
}