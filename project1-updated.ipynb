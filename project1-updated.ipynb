{
 "cells": [
  {
   "cell_type": "markdown",
   "metadata": {
    "id": "KLrJR7YZQQAA"
   },
   "source": [
    "## Importing libraries"
   ]
  },
  {
   "cell_type": "code",
   "execution_count": 1,
   "metadata": {
    "executionInfo": {
     "elapsed": 6286,
     "status": "ok",
     "timestamp": 1647626447355,
     "user": {
      "displayName": "Junda Wu",
      "photoUrl": "https://lh3.googleusercontent.com/a/default-user=s64",
      "userId": "14094466101207847760"
     },
     "user_tz": 240
    },
    "id": "mlhbxDYyPLr0"
   },
   "outputs": [],
   "source": [
    "import torch\n",
    "import torch.nn as nn\n",
    "import torch.nn.init as init\n",
    "from prettytable import PrettyTable\n",
    "import torchvision\n",
    "import torchvision.transforms as transforms\n",
    "import torch.optim as optim\n",
    "import json\n",
    "import torchvision.datasets as datasets\n",
    "import matplotlib.pyplot as plt\n",
    "import numpy as np"
   ]
  },
  {
   "cell_type": "code",
   "execution_count": 2,
   "metadata": {
    "executionInfo": {
     "elapsed": 4,
     "status": "ok",
     "timestamp": 1647626447356,
     "user": {
      "displayName": "Junda Wu",
      "photoUrl": "https://lh3.googleusercontent.com/a/default-user=s64",
      "userId": "14094466101207847760"
     },
     "user_tz": 240
    },
    "id": "WcSkAobtQVjY"
   },
   "outputs": [],
   "source": [
    "def count_parameters(model):\n",
    "    table = PrettyTable([\"Modules\", \"Parameters\"])\n",
    "    total_params = 0\n",
    "    for name, parameter in model.named_parameters():\n",
    "        if not parameter.requires_grad: continue\n",
    "        params = parameter.numel()\n",
    "        table.add_row([name, params])\n",
    "        total_params += params\n",
    "    print(table)\n",
    "    print(f\"Total Trainable Params: {total_params}\")\n",
    "    return total_params"
   ]
  },
  {
   "cell_type": "markdown",
   "metadata": {
    "id": "1LfJ-RVzQfj1"
   },
   "source": [
    "## ResNet Architecture:"
   ]
  },
  {
   "cell_type": "code",
   "execution_count": 6,
   "metadata": {
    "colab": {
     "base_uri": "https://localhost:8080/"
    },
    "executionInfo": {
     "elapsed": 557,
     "status": "ok",
     "timestamp": 1647626448042,
     "user": {
      "displayName": "Junda Wu",
      "photoUrl": "https://lh3.googleusercontent.com/a/default-user=s64",
      "userId": "14094466101207847760"
     },
     "user_tz": 240
    },
    "id": "HhKIlD00Qk4m",
    "outputId": "a2a77d20-ca1e-4112-981e-ae1211f38838"
   },
   "outputs": [],
   "source": [
    "# N:    residual layer (default: 4)\n",
    "# B_i:  residual block in layer i (default: 2)\n",
    "# C_1:  channel in layer 1 (default: 64)\n",
    "# F_i:  filter in residual conv (default: 3)\n",
    "# K_i:  filter in connection conv (default: 1)\n",
    "# P:    average pooling size (default: 1)\n",
    "\n",
    "\n",
    "class DropBlock2D(nn.Module):\n",
    "    r\"\"\"Randomly zeroes 2D spatial blocks of the input tensor.\n",
    "    As described in the paper\n",
    "    `DropBlock: A regularization method for convolutional networks`_ ,\n",
    "    dropping whole blocks of feature map allows to remove semantic\n",
    "    information as compared to regular dropout.\n",
    "    Args:\n",
    "        drop_prob (float): probability of an element to be dropped.\n",
    "        block_size (int): size of the block to drop\n",
    "    Shape:\n",
    "        - Input: `(N, C, H, W)`\n",
    "        - Output: `(N, C, H, W)`\n",
    "    .. _DropBlock: A regularization method for convolutional networks:\n",
    "       https://arxiv.org/abs/1810.12890\n",
    "    \"\"\"\n",
    "\n",
    "    def __init__(self, drop_prob, block_size):\n",
    "        super(DropBlock2D, self).__init__()\n",
    "\n",
    "        self.drop_prob = drop_prob\n",
    "        self.block_size = block_size\n",
    "\n",
    "    def forward(self, x):\n",
    "        # shape: (bsize, channels, height, width)\n",
    "\n",
    "        assert x.dim() == 4, \\\n",
    "            \"Expected input with 4 dimensions (bsize, channels, height, width)\"\n",
    "\n",
    "        if not self.training or self.drop_prob == 0.:\n",
    "            return x\n",
    "        else:\n",
    "            # get gamma value\n",
    "            gamma = self._compute_gamma(x)\n",
    "\n",
    "            # sample mask\n",
    "            mask = (torch.rand(x.shape[0], *x.shape[2:]) < gamma).float()\n",
    "\n",
    "            # place mask on input device\n",
    "            mask = mask.to(x.device)\n",
    "\n",
    "            # compute block mask\n",
    "            block_mask = self._compute_block_mask(mask)\n",
    "\n",
    "            # apply block mask\n",
    "            out = x * block_mask[:, None, :, :]\n",
    "\n",
    "            # scale output\n",
    "            out = out * block_mask.numel() / block_mask.sum()\n",
    "\n",
    "            return out\n",
    "\n",
    "    def _compute_block_mask(self, mask):\n",
    "        block_mask = F.max_pool2d(input=mask[:, None, :, :],\n",
    "                                  kernel_size=(self.block_size, self.block_size),\n",
    "                                  stride=(1, 1),\n",
    "                                  padding=self.block_size // 2)\n",
    "\n",
    "        if self.block_size % 2 == 0:\n",
    "            block_mask = block_mask[:, :, :-1, :-1]\n",
    "\n",
    "        block_mask = 1 - block_mask.squeeze(1)\n",
    "\n",
    "        return block_mask\n",
    "\n",
    "    def _compute_gamma(self, x):\n",
    "        return self.drop_prob / (self.block_size ** 2)\n",
    "\n",
    "\n",
    "def convNxN(\n",
    "        C_in,\n",
    "        C_out,\n",
    "        F,\n",
    "        stride=1,\n",
    "        groups=1,\n",
    "        dilation=1,\n",
    "        padding=1\n",
    ") -> nn.Conv2d:\n",
    "    \"\"\"NxN convolution with padding\"\"\"\n",
    "    return nn.Conv2d(C_in, C_out, kernel_size=F, stride=stride,\n",
    "                     padding=padding, groups=groups, bias=False, dilation=dilation)\n",
    "\n",
    "\n",
    "class ResBlock(nn.Module):\n",
    "    def __init__(\n",
    "            self,\n",
    "            C_in,\n",
    "            C_out,\n",
    "            F,\n",
    "            stride=1,\n",
    "            groups=1,\n",
    "            dilation=1,\n",
    "            base_width=64,\n",
    "            downsample=None,\n",
    "            norm_layer=nn.BatchNorm2d\n",
    "    ) -> None:\n",
    "        super(ResBlock, self).__init__()\n",
    "        if groups != 1:\n",
    "            raise ValueError('BasicBlock only supports groups=1')\n",
    "        if dilation > 1:\n",
    "            raise NotImplementedError(\"Dilation > 1 not supported in BasicBlock\")\n",
    "        # Both self.conv1 and self.downsample layers downsample the input when stride != 1\n",
    "        self.conv1 = convNxN(C_in=C_in, C_out=C_out, F=F, stride=stride, padding=(F - 1) // 2)\n",
    "        self.bn1 = norm_layer(C_out)\n",
    "        self.relu = nn.ReLU(inplace=True)\n",
    "        self.conv2 = convNxN(C_in=C_out, C_out=C_out, F=F, stride=1, padding=(F - 1) // 2)\n",
    "        self.bn2 = norm_layer(C_out)\n",
    "        self.downsample = downsample\n",
    "\n",
    "    def forward(self, x):\n",
    "        identity = x\n",
    "\n",
    "        out = self.conv1(x)\n",
    "        out = self.bn1(out)\n",
    "        out = self.relu(out)\n",
    "\n",
    "        out = self.conv2(out)\n",
    "        out = self.bn2(out)\n",
    "\n",
    "        if self.downsample is not None:\n",
    "            identity = self.downsample(x)\n",
    "\n",
    "        out += identity\n",
    "        out = self.relu(out)\n",
    "\n",
    "        return out\n",
    "\n",
    "\n",
    "class ResNet(nn.Module):\n",
    "    def __init__(\n",
    "            self,\n",
    "            C_1,\n",
    "            N=4,\n",
    "            F=[3, 3, 3, 3],\n",
    "            B=[2, 2, 2, 2],\n",
    "            K=[1, 1, 1, 1],\n",
    "            P=1,\n",
    "            num_classes=10,\n",
    "            groups=1,\n",
    "            width_per_group=64,\n",
    "            norm_layer=nn.BatchNorm2d,\n",
    "            D_P=0.,\n",
    "            D_S=0,\n",
    "            D_F=0.\n",
    "    ) -> None:\n",
    "        super(ResNet, self).__init__()\n",
    "        self._norm_layer = norm_layer\n",
    "        self.inplanes = C_1\n",
    "        self.dilation = 1\n",
    "        self.groups = groups\n",
    "        self.base_width = width_per_group\n",
    "        # Input Layer\n",
    "        self.conv1 = nn.Conv2d(3, self.inplanes, kernel_size=F[0], stride=2, padding=(F[0] - 1) // 2, bias=False)\n",
    "        self.bn1 = norm_layer(self.inplanes)\n",
    "        self.relu = nn.ReLU(inplace=True)\n",
    "\n",
    "        self.layer1 = self._make_layer(self.inplanes, self.inplanes,\n",
    "                                       K[0], F[0], B[0], dropout_prob=D_P, dropout_size=D_S)\n",
    "        layer2 = []\n",
    "        for i in range(N - 1):\n",
    "            layer2.append(self._make_layer(self.inplanes * (2 ** i),\n",
    "                                           self.inplanes * (2 ** (i + 1)),\n",
    "                                           K[i], F[i], B[i], stride=2,\n",
    "                                           dropout_prob=D_P, dropout_size=D_S))\n",
    "        self.layer2 = nn.Sequential(*layer2)\n",
    "        self.avgpool = nn.AdaptiveAvgPool2d((P, P))\n",
    "        final_input = int(self.inplanes * (2 ** (N - 1)) * (P ** 2))\n",
    "        if D_F > 0.:\n",
    "            self.fc = nn.Sequential(\n",
    "                nn.Dropout(D_F),\n",
    "                nn.Linear(final_input, num_classes),\n",
    "            )\n",
    "        else:\n",
    "            self.fc = nn.Linear(final_input, num_classes)\n",
    "\n",
    "        for m in self.modules():\n",
    "            if isinstance(m, nn.Conv2d):\n",
    "                nn.init.kaiming_normal_(m.weight, mode='fan_out', nonlinearity='relu')\n",
    "            elif isinstance(m, (nn.BatchNorm2d, nn.GroupNorm)):\n",
    "                nn.init.constant_(m.weight, 1)\n",
    "                nn.init.constant_(m.bias, 0)\n",
    "\n",
    "    def _make_layer(self, inplanes, planes, K, F, blocks, dropout_prob=0, dropout_size=0, stride=1):\n",
    "        if inplanes == planes:\n",
    "            downsample = None\n",
    "        else:\n",
    "            downsample = nn.Sequential(\n",
    "                nn.Conv2d(inplanes, planes, kernel_size=K, stride=stride, padding=(K - 1) // 2, bias=False),\n",
    "                nn.BatchNorm2d(planes),\n",
    "            )\n",
    "\n",
    "        layers = []\n",
    "        layers.append(ResBlock(inplanes, planes, F, stride, downsample=downsample))\n",
    "        for _ in range(1, blocks):\n",
    "            layers.append(ResBlock(planes, planes, F, downsample=None))\n",
    "        if dropout_prob > 0:\n",
    "            layers.append(DropBlock2D(dropout_prob, dropout_size))\n",
    "\n",
    "        return nn.Sequential(*layers)\n",
    "\n",
    "    def forward(self, x):\n",
    "        x = self.conv1(x)\n",
    "        x = self.bn1(x)\n",
    "        x = self.relu(x)\n",
    "\n",
    "        x = self.layer1(x)\n",
    "        for layer in self.layer2:\n",
    "            x = layer(x)\n",
    "        x = self.avgpool(x)\n",
    "        x = torch.flatten(x, 1)\n",
    "        self.rep = x\n",
    "        x = self.fc(x)\n",
    "\n",
    "        return x"
   ]
  },
  {
   "cell_type": "markdown",
   "metadata": {
    "id": "WwvoE4vVTelE"
   },
   "source": [
    "## Hyperparameter setting"
   ]
  },
  {
   "cell_type": "markdown",
   "metadata": {
    "id": "9treLgx3Yub3"
   },
   "source": [
    "## Hyperparameters Experiment"
   ]
  },
  {
   "cell_type": "code",
   "execution_count": null,
   "metadata": {
    "id": "yJMuGY6DYs8P"
   },
   "outputs": [],
   "source": []
  },
  {
   "cell_type": "markdown",
   "metadata": {
    "id": "_mBRG6S4ZgeT"
   },
   "source": [
    "## Dataset"
   ]
  },
  {
   "cell_type": "code",
   "execution_count": 16,
   "metadata": {
    "colab": {
     "base_uri": "https://localhost:8080/",
     "height": 616
    },
    "executionInfo": {
     "elapsed": 227,
     "status": "error",
     "timestamp": 1647626741208,
     "user": {
      "displayName": "Junda Wu",
      "photoUrl": "https://lh3.googleusercontent.com/a/default-user=s64",
      "userId": "14094466101207847760"
     },
     "user_tz": 240
    },
    "id": "yNpp3dFyZlEz",
    "outputId": "2c1c2c87-66a6-4918-f1ac-ceaff9bd8b5b"
   },
   "outputs": [],
   "source": [
    "%matplotlib inline\n",
    "# %config InlineBackend.figure_format = 'retina'\n",
    "def imshow(img):\n",
    "    img = img / 2 + 0.5     # unnormalize\n",
    "    npimg = img.numpy()\n",
    "    plt.imshow(np.transpose(npimg, (1, 2, 0)))\n",
    "\n",
    "hp = {\n",
    "        'N': 2,\n",
    "        'C_1': 128,\n",
    "        'P': 1,\n",
    "        'B': [3, 3],\n",
    "        'F': [3, 3],\n",
    "        'K': [3, 3]\n",
    "    }\n",
    "net = ResNet(**hp)\n",
    "net = net.cuda()\n",
    "net.load_state_dict(torch.load(\"{_N__ 2, _C_1__ 128, _P__ 1, _B__ [3, 3], _F__ [3, 3], _K__ [3, 3], _D_P__ 0.0, _D_S__ 0, _D_F__ 0.0}.pt\"))\n",
    "\n",
    "normalize = transforms.Normalize(mean=[0.5, 0.5, 0.5], std=[0.5, 0.5, 0.5])\n",
    "classes = ('plane', 'car', 'bird', 'cat', 'deer', 'dog', 'frog', 'horse', 'ship', 'truck')"
   ]
  },
  {
   "cell_type": "code",
   "execution_count": null,
   "metadata": {},
   "outputs": [],
   "source": [
    "training_loader = torch.utils.data.DataLoader(\n",
    "        datasets.CIFAR10(root='./data', train=True, transform=transforms.Compose([\n",
    "            transforms.RandomHorizontalFlip(),\n",
    "            transforms.RandomCrop(32, 4),\n",
    "            transforms.ToTensor(),\n",
    "            normalize,\n",
    "        ]), download=True),\n",
    "        batch_size=256, shuffle=True,\n",
    "        num_workers=0, pin_memory=True)\n",
    "\n",
    "validation_loader = torch.utils.data.DataLoader(\n",
    "        datasets.CIFAR10(root='./data', train=False, transform=transforms.Compose([\n",
    "            transforms.ToTensor(),\n",
    "            normalize,\n",
    "        ])),\n",
    "        batch_size=128, shuffle=False,\n",
    "        num_workers=0, pin_memory=True)\n",
    "\n",
    "\n",
    "total = {c: 0 for c in classes}\n",
    "correct = {c: 0 for c in classes}\n",
    "with torch.no_grad():\n",
    "    for test_data in validation_loader:\n",
    "        inputs, labels = test_data\n",
    "        inputs = inputs.cuda()\n",
    "        labels = labels.cuda()\n",
    "        outputs = net(inputs)\n",
    "        _, predicted = torch.max(outputs.data, 1)\n",
    "        \n",
    "        for i, c in enumerate(classes):\n",
    "            total[c] += (labels == i).sum().item()\n",
    "            correct[c] += (predicted[labels == i] == labels[labels == i]).sum().item()\n"
   ]
  },
  {
   "cell_type": "code",
   "execution_count": 9,
   "metadata": {},
   "outputs": [
    {
     "name": "stdout",
     "output_type": "stream",
     "text": [
      "{'plane': 0.905, 'car': 0.969, 'bird': 0.848, 'cat': 0.743, 'deer': 0.899, 'dog': 0.866, 'frog': 0.949, 'horse': 0.93, 'ship': 0.944, 'truck': 0.923}\n"
     ]
    }
   ],
   "source": [
    "print({c: correct[c]/total[c] for c in classes})"
   ]
  },
  {
   "cell_type": "markdown",
   "metadata": {
    "id": "gPngQbrmxEip"
   },
   "source": [
    "## Training and Test Error"
   ]
  },
  {
   "cell_type": "code",
   "execution_count": 11,
   "metadata": {
    "id": "6m3bP-yqxD9Z"
   },
   "outputs": [
    {
     "name": "stdout",
     "output_type": "stream",
     "text": [
      "               cat                cat                cat                cat                dog\n"
     ]
    },
    {
     "data": {
      "image/png": "[encoded data removed]",
      "text/plain": [
       "<Figure size 1584x720 with 1 Axes>"
      ]
     },
     "metadata": {
      "needs_background": "light"
     },
     "output_type": "display_data"
    }
   ],
   "source": [
    "# get some random training images\n",
    "dataiter = iter(validation_loader)\n",
    "images, labels = dataiter.next()\n",
    "plt.figure(figsize=(22,10)) \n",
    "\n",
    "outputs = net(images.cuda())\n",
    "_, predicted = torch.max(outputs.data, 1)\n",
    "\n",
    "# show images\n",
    "imshow(torchvision.utils.make_grid(images[labels==3][0:5,:,:]))\n",
    "# print labels\n",
    "# print(' '.join('%18s' % classes[labels[labels==3][j]] for j in range(5)))\n",
    "print(' '.join('%18s' % classes[predicted[labels==3][j].item()] for j in range(5)))"
   ]
  },
  {
   "cell_type": "code",
   "execution_count": 31,
   "metadata": {},
   "outputs": [
    {
     "name": "stdout",
     "output_type": "stream",
     "text": [
      "              deer               deer               ship               deer               deer\n"
     ]
    },
    {
     "data": {
      "image/png": "[encoded data removed]",
      "text/plain": [
       "<Figure size 1584x720 with 1 Axes>"
      ]
     },
     "metadata": {
      "needs_background": "light"
     },
     "output_type": "display_data"
    }
   ],
   "source": [
    "# get some random training images\n",
    "dataiter = iter(training_loader)\n",
    "images, labels = dataiter.next()\n",
    "plt.figure(figsize=(22,10)) \n",
    "\n",
    "outputs = net(images.cuda())\n",
    "_, predicted = torch.max(outputs.data, 1)\n",
    "\n",
    "# show images\n",
    "imshow(torchvision.utils.make_grid(images[labels==4][0:5,:,:]))\n",
    "# print labels\n",
    "# print(' '.join('%18s' % classes[labels[labels==3][j]] for j in range(5)))\n",
    "print(' '.join('%18s' % classes[predicted[labels==4][j].item()] for j in range(5)))"
   ]
  },
  {
   "cell_type": "code",
   "execution_count": 16,
   "metadata": {},
   "outputs": [
    {
     "name": "stdout",
     "output_type": "stream",
     "text": [
      "tensor([4.1267e-08, 1.1880e-05, 1.3892e-05, 6.5726e-01, 3.0779e-07, 1.3441e-01,\n",
      "        2.0831e-01, 1.0069e-07, 2.3798e-10, 1.8249e-07], device='cuda:0',\n",
      "       grad_fn=<UnbindBackward0>)\n"
     ]
    },
    {
     "ename": "AssertionError",
     "evalue": "",
     "output_type": "error",
     "traceback": [
      "\u001b[1;31m---------------------------------------------------------------------------\u001b[0m",
      "\u001b[1;31mAssertionError\u001b[0m                            Traceback (most recent call last)",
      "\u001b[1;32m<ipython-input-16-618599380270>\u001b[0m in \u001b[0;36m<module>\u001b[1;34m\u001b[0m\n\u001b[0;32m     12\u001b[0m         \u001b[0mimshow\u001b[0m\u001b[1;33m(\u001b[0m\u001b[0mtorchvision\u001b[0m\u001b[1;33m.\u001b[0m\u001b[0mutils\u001b[0m\u001b[1;33m.\u001b[0m\u001b[0mmake_grid\u001b[0m\u001b[1;33m(\u001b[0m\u001b[0mimg\u001b[0m\u001b[1;33m)\u001b[0m\u001b[1;33m)\u001b[0m\u001b[1;33m\u001b[0m\u001b[1;33m\u001b[0m\u001b[0m\n\u001b[0;32m     13\u001b[0m         \u001b[0mprint\u001b[0m\u001b[1;33m(\u001b[0m\u001b[0mout\u001b[0m\u001b[1;33m)\u001b[0m\u001b[1;33m\u001b[0m\u001b[1;33m\u001b[0m\u001b[0m\n\u001b[1;32m---> 14\u001b[1;33m         \u001b[1;32massert\u001b[0m \u001b[1;36m0\u001b[0m \u001b[1;33m==\u001b[0m \u001b[1;36m1\u001b[0m\u001b[1;33m\u001b[0m\u001b[1;33m\u001b[0m\u001b[0m\n\u001b[0m",
      "\u001b[1;31mAssertionError\u001b[0m: "
     ]
    },
    {
     "data": {
      "image/png": "[encoded data removed]",
      "text/plain": [
       "<Figure size 1584x720 with 1 Axes>"
      ]
     },
     "metadata": {
      "needs_background": "light"
     },
     "output_type": "display_data"
    }
   ],
   "source": [
    "# get some random training images\n",
    "dataiter = iter(validation_loader)\n",
    "images, labels = dataiter.next()\n",
    "plt.figure(figsize=(22,10)) \n",
    "\n",
    "outputs = net(images.cuda()).softmax(dim=-1)\n",
    "_, predicted = torch.max(outputs.data, 1)\n",
    "\n",
    "for out, pred, img, label in zip(outputs, predicted, images, labels):\n",
    "    if pred != label:\n",
    "        # show images\n",
    "        imshow(torchvision.utils.make_grid(img))\n",
    "        print(out)\n",
    "        assert 0 == 1"
   ]
  },
  {
   "cell_type": "code",
   "execution_count": 28,
   "metadata": {},
   "outputs": [],
   "source": [
    "validation_loader = torch.utils.data.DataLoader(\n",
    "        datasets.CIFAR10(root='./data', train=False, transform=transforms.Compose([\n",
    "            transforms.ToTensor(),\n",
    "            normalize,\n",
    "        ])),\n",
    "        batch_size=100, shuffle=False,\n",
    "        num_workers=0, pin_memory=True)\n",
    "\n",
    "reps = []\n",
    "label = []\n",
    "with torch.no_grad():\n",
    "    for i, test_data in enumerate(validation_loader):\n",
    "        if i == 20:\n",
    "            break\n",
    "        inputs, labels = test_data\n",
    "        inputs = inputs.cuda()\n",
    "        labels = labels.cuda()\n",
    "        outputs = net(inputs)\n",
    "        _, predicted = torch.max(outputs.data, 1)\n",
    "        reps.append(net.rep.data.detach().cpu().clone())\n",
    "        label.extend(labels.tolist())\n",
    "reps = torch.cat(reps, dim=0).numpy()\n",
    "label = np.asarray(label)"
   ]
  },
  {
   "cell_type": "code",
   "execution_count": 30,
   "metadata": {},
   "outputs": [
    {
     "name": "stdout",
     "output_type": "stream",
     "text": [
      "[t-SNE] Computing 91 nearest neighbors...\n",
      "[t-SNE] Indexed 2000 samples in 0.001s...\n",
      "[t-SNE] Computed neighbors for 2000 samples in 0.120s...\n",
      "[t-SNE] Computed conditional probabilities for sample 1000 / 2000\n",
      "[t-SNE] Computed conditional probabilities for sample 2000 / 2000\n",
      "[t-SNE] Mean sigma: 2.028058\n",
      "[t-SNE] KL divergence after 250 iterations with early exaggeration: 69.493225\n",
      "[t-SNE] KL divergence after 1000 iterations: 1.166057\n"
     ]
    },
    {
     "data": {
      "text/plain": [
       "<matplotlib.legend.Legend at 0x2c319b61b20>"
      ]
     },
     "execution_count": 30,
     "metadata": {},
     "output_type": "execute_result"
    },
    {
     "data": {
      "image/png": "[encoded data removed]",
      "text/plain": [
       "<Figure size 576x576 with 1 Axes>"
      ]
     },
     "metadata": {
      "needs_background": "light"
     },
     "output_type": "display_data"
    }
   ],
   "source": [
    "import matplotlib.pyplot as plt\n",
    "import matplotlib\n",
    "from sklearn.manifold import TSNE\n",
    "\n",
    "colors = ['b', 'g', 'r', 'c', 'm', 'y', 'orange', 'purple', 'grey', 'brown']\n",
    "plt.figure(figsize=(8, 8))\n",
    "tsne = TSNE(n_components=2, verbose=1, random_state=42, n_jobs=8)\n",
    "original = tsne.fit_transform(reps)\n",
    "for i in range(10):\n",
    "    plt.scatter(original[label == i, 0], original[label == i, 1], c=colors[i], s=10, label=classes[i])\n",
    "plt.legend()"
   ]
  },
  {
   "cell_type": "code",
   "execution_count": null,
   "metadata": {},
   "outputs": [],
   "source": []
  }
 ],
 "metadata": {
  "accelerator": "GPU",
  "colab": {
   "collapsed_sections": [],
   "name": "project1.ipynb",
   "provenance": []
  },
  "kernelspec": {
   "display_name": "Python 3",
   "language": "python",
   "name": "python3"
  },
  "language_info": {
   "codemirror_mode": {
    "name": "ipython",
    "version": 3
   },
   "file_extension": ".py",
   "mimetype": "text/x-python",
   "name": "python",
   "nbconvert_exporter": "python",
   "pygments_lexer": "ipython3",
   "version": "3.8.2"
  },
  "widgets": {
   "application/vnd.jupyter.widget-state+json": {
    "008a1023618a4e318e8f290e444f17ce": {
     "model_module": "@jupyter-widgets/controls",
     "model_module_version": "1.5.0",
     "model_name": "DescriptionStyleModel",
     "state": {
      "_model_module": "@jupyter-widgets/controls",
      "_model_module_version": "1.5.0",
      "_model_name": "DescriptionStyleModel",
      "_view_count": null,
      "_view_module": "@jupyter-widgets/base",
      "_view_module_version": "1.2.0",
      "_view_name": "StyleView",
      "description_width": ""
     }
    },
    "115954cfa92d4359b8b3e4fddfb5443c": {
     "model_module": "@jupyter-widgets/controls",
     "model_module_version": "1.5.0",
     "model_name": "HTMLModel",
     "state": {
      "_dom_classes": [],
      "_model_module": "@jupyter-widgets/controls",
      "_model_module_version": "1.5.0",
      "_model_name": "HTMLModel",
      "_view_count": null,
      "_view_module": "@jupyter-widgets/controls",
      "_view_module_version": "1.5.0",
      "_view_name": "HTMLView",
      "description": "",
      "description_tooltip": null,
      "layout": "IPY_MODEL_95e00b9581394828a64af4387cd47106",
      "placeholder": "​",
      "style": "IPY_MODEL_6a7d1d38b9cc4b2bb698bd25d3a0fe79",
      "value": ""
     }
    },
    "1f5ed7b5a7bd45cba12f6a062dd78681": {
     "model_module": "@jupyter-widgets/controls",
     "model_module_version": "1.5.0",
     "model_name": "HBoxModel",
     "state": {
      "_dom_classes": [],
      "_model_module": "@jupyter-widgets/controls",
      "_model_module_version": "1.5.0",
      "_model_name": "HBoxModel",
      "_view_count": null,
      "_view_module": "@jupyter-widgets/controls",
      "_view_module_version": "1.5.0",
      "_view_name": "HBoxView",
      "box_style": "",
      "children": [
       "IPY_MODEL_115954cfa92d4359b8b3e4fddfb5443c",
       "IPY_MODEL_2e5de8e4464543df8cc81cd9eb5e841a",
       "IPY_MODEL_b091a90ed4df4760a19bada4e1cb90b8"
      ],
      "layout": "IPY_MODEL_ba9299f19fd441cd9559f43a10873274"
     }
    },
    "2e5de8e4464543df8cc81cd9eb5e841a": {
     "model_module": "@jupyter-widgets/controls",
     "model_module_version": "1.5.0",
     "model_name": "FloatProgressModel",
     "state": {
      "_dom_classes": [],
      "_model_module": "@jupyter-widgets/controls",
      "_model_module_version": "1.5.0",
      "_model_name": "FloatProgressModel",
      "_view_count": null,
      "_view_module": "@jupyter-widgets/controls",
      "_view_module_version": "1.5.0",
      "_view_name": "ProgressView",
      "bar_style": "success",
      "description": "",
      "description_tooltip": null,
      "layout": "IPY_MODEL_4dfc8713834d4308b11c8a3a43ecf2ca",
      "max": 170498071,
      "min": 0,
      "orientation": "horizontal",
      "style": "IPY_MODEL_bcab2bfc827a4c95bf2ef5f2dec6779e",
      "value": 170498071
     }
    },
    "35353f3ff0a540a889b4984e2c6f5880": {
     "model_module": "@jupyter-widgets/base",
     "model_module_version": "1.2.0",
     "model_name": "LayoutModel",
     "state": {
      "_model_module": "@jupyter-widgets/base",
      "_model_module_version": "1.2.0",
      "_model_name": "LayoutModel",
      "_view_count": null,
      "_view_module": "@jupyter-widgets/base",
      "_view_module_version": "1.2.0",
      "_view_name": "LayoutView",
      "align_content": null,
      "align_items": null,
      "align_self": null,
      "border": null,
      "bottom": null,
      "display": null,
      "flex": null,
      "flex_flow": null,
      "grid_area": null,
      "grid_auto_columns": null,
      "grid_auto_flow": null,
      "grid_auto_rows": null,
      "grid_column": null,
      "grid_gap": null,
      "grid_row": null,
      "grid_template_areas": null,
      "grid_template_columns": null,
      "grid_template_rows": null,
      "height": null,
      "justify_content": null,
      "justify_items": null,
      "left": null,
      "margin": null,
      "max_height": null,
      "max_width": null,
      "min_height": null,
      "min_width": null,
      "object_fit": null,
      "object_position": null,
      "order": null,
      "overflow": null,
      "overflow_x": null,
      "overflow_y": null,
      "padding": null,
      "right": null,
      "top": null,
      "visibility": null,
      "width": null
     }
    },
    "4dfc8713834d4308b11c8a3a43ecf2ca": {
     "model_module": "@jupyter-widgets/base",
     "model_module_version": "1.2.0",
     "model_name": "LayoutModel",
     "state": {
      "_model_module": "@jupyter-widgets/base",
      "_model_module_version": "1.2.0",
      "_model_name": "LayoutModel",
      "_view_count": null,
      "_view_module": "@jupyter-widgets/base",
      "_view_module_version": "1.2.0",
      "_view_name": "LayoutView",
      "align_content": null,
      "align_items": null,
      "align_self": null,
      "border": null,
      "bottom": null,
      "display": null,
      "flex": null,
      "flex_flow": null,
      "grid_area": null,
      "grid_auto_columns": null,
      "grid_auto_flow": null,
      "grid_auto_rows": null,
      "grid_column": null,
      "grid_gap": null,
      "grid_row": null,
      "grid_template_areas": null,
      "grid_template_columns": null,
      "grid_template_rows": null,
      "height": null,
      "justify_content": null,
      "justify_items": null,
      "left": null,
      "margin": null,
      "max_height": null,
      "max_width": null,
      "min_height": null,
      "min_width": null,
      "object_fit": null,
      "object_position": null,
      "order": null,
      "overflow": null,
      "overflow_x": null,
      "overflow_y": null,
      "padding": null,
      "right": null,
      "top": null,
      "visibility": null,
      "width": null
     }
    },
    "6a7d1d38b9cc4b2bb698bd25d3a0fe79": {
     "model_module": "@jupyter-widgets/controls",
     "model_module_version": "1.5.0",
     "model_name": "DescriptionStyleModel",
     "state": {
      "_model_module": "@jupyter-widgets/controls",
      "_model_module_version": "1.5.0",
      "_model_name": "DescriptionStyleModel",
      "_view_count": null,
      "_view_module": "@jupyter-widgets/base",
      "_view_module_version": "1.2.0",
      "_view_name": "StyleView",
      "description_width": ""
     }
    },
    "95e00b9581394828a64af4387cd47106": {
     "model_module": "@jupyter-widgets/base",
     "model_module_version": "1.2.0",
     "model_name": "LayoutModel",
     "state": {
      "_model_module": "@jupyter-widgets/base",
      "_model_module_version": "1.2.0",
      "_model_name": "LayoutModel",
      "_view_count": null,
      "_view_module": "@jupyter-widgets/base",
      "_view_module_version": "1.2.0",
      "_view_name": "LayoutView",
      "align_content": null,
      "align_items": null,
      "align_self": null,
      "border": null,
      "bottom": null,
      "display": null,
      "flex": null,
      "flex_flow": null,
      "grid_area": null,
      "grid_auto_columns": null,
      "grid_auto_flow": null,
      "grid_auto_rows": null,
      "grid_column": null,
      "grid_gap": null,
      "grid_row": null,
      "grid_template_areas": null,
      "grid_template_columns": null,
      "grid_template_rows": null,
      "height": null,
      "justify_content": null,
      "justify_items": null,
      "left": null,
      "margin": null,
      "max_height": null,
      "max_width": null,
      "min_height": null,
      "min_width": null,
      "object_fit": null,
      "object_position": null,
      "order": null,
      "overflow": null,
      "overflow_x": null,
      "overflow_y": null,
      "padding": null,
      "right": null,
      "top": null,
      "visibility": null,
      "width": null
     }
    },
    "b091a90ed4df4760a19bada4e1cb90b8": {
     "model_module": "@jupyter-widgets/controls",
     "model_module_version": "1.5.0",
     "model_name": "HTMLModel",
     "state": {
      "_dom_classes": [],
      "_model_module": "@jupyter-widgets/controls",
      "_model_module_version": "1.5.0",
      "_model_name": "HTMLModel",
      "_view_count": null,
      "_view_module": "@jupyter-widgets/controls",
      "_view_module_version": "1.5.0",
      "_view_name": "HTMLView",
      "description": "",
      "description_tooltip": null,
      "layout": "IPY_MODEL_35353f3ff0a540a889b4984e2c6f5880",
      "placeholder": "​",
      "style": "IPY_MODEL_008a1023618a4e318e8f290e444f17ce",
      "value": " 170499072/? [00:02&lt;00:00, 62792489.70it/s]"
     }
    },
    "ba9299f19fd441cd9559f43a10873274": {
     "model_module": "@jupyter-widgets/base",
     "model_module_version": "1.2.0",
     "model_name": "LayoutModel",
     "state": {
      "_model_module": "@jupyter-widgets/base",
      "_model_module_version": "1.2.0",
      "_model_name": "LayoutModel",
      "_view_count": null,
      "_view_module": "@jupyter-widgets/base",
      "_view_module_version": "1.2.0",
      "_view_name": "LayoutView",
      "align_content": null,
      "align_items": null,
      "align_self": null,
      "border": null,
      "bottom": null,
      "display": null,
      "flex": null,
      "flex_flow": null,
      "grid_area": null,
      "grid_auto_columns": null,
      "grid_auto_flow": null,
      "grid_auto_rows": null,
      "grid_column": null,
      "grid_gap": null,
      "grid_row": null,
      "grid_template_areas": null,
      "grid_template_columns": null,
      "grid_template_rows": null,
      "height": null,
      "justify_content": null,
      "justify_items": null,
      "left": null,
      "margin": null,
      "max_height": null,
      "max_width": null,
      "min_height": null,
      "min_width": null,
      "object_fit": null,
      "object_position": null,
      "order": null,
      "overflow": null,
      "overflow_x": null,
      "overflow_y": null,
      "padding": null,
      "right": null,
      "top": null,
      "visibility": null,
      "width": null
     }
    },
    "bcab2bfc827a4c95bf2ef5f2dec6779e": {
     "model_module": "@jupyter-widgets/controls",
     "model_module_version": "1.5.0",
     "model_name": "ProgressStyleModel",
     "state": {
      "_model_module": "@jupyter-widgets/controls",
      "_model_module_version": "1.5.0",
      "_model_name": "ProgressStyleModel",
      "_view_count": null,
      "_view_module": "@jupyter-widgets/base",
      "_view_module_version": "1.2.0",
      "_view_name": "StyleView",
      "bar_color": null,
      "description_width": ""
     }
    }
   }
  }
 },
 "nbformat": 4,
 "nbformat_minor": 1
}
